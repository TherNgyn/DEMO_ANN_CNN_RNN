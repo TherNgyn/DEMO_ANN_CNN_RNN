{
 "cells": [
  {
   "cell_type": "code",
   "execution_count": 76,
   "id": "e3958608",
   "metadata": {},
   "outputs": [
    {
     "name": "stdout",
     "output_type": "stream",
     "text": [
      "2.13.1\n",
      "['Input', 'Model', 'Sequential', '__builtins__', '__cached__', '__doc__', '__file__', '__internal__', '__loader__', '__name__', '__package__', '__path__', '__spec__', 'activations', 'applications', 'backend', 'callbacks', 'constraints', 'datasets', 'dtensor', 'estimator', 'experimental', 'export', 'initializers', 'layers', 'losses', 'metrics', 'mixed_precision', 'models', 'optimizers', 'preprocessing', 'regularizers', 'saving', 'utils']\n"
     ]
    }
   ],
   "source": [
    "import tensorflow as tf\n",
    "print(tf.__version__)\n",
    "print(dir(tf.keras))"
   ]
  },
  {
   "cell_type": "code",
   "execution_count": 77,
   "id": "e23a9c85",
   "metadata": {},
   "outputs": [
    {
     "name": "stderr",
     "output_type": "stream",
     "text": [
      "[nltk_data] Downloading package stopwords to\n",
      "[nltk_data]     C:\\Users\\ADMIN\\AppData\\Roaming\\nltk_data...\n",
      "[nltk_data]   Package stopwords is already up-to-date!\n"
     ]
    }
   ],
   "source": [
    "# Nếu chưa cài đặt thì chạy dòng sau\n",
    "#%pip install numpy pandas matplotlib seaborn tensorflow scikit-learn nltk\n",
    "\n",
    "# Import thư viện\n",
    "import numpy as np\n",
    "import pandas as pd\n",
    "import matplotlib.pyplot as plt\n",
    "import seaborn as sns\n",
    "import tensorflow as tf\n",
    "from tensorflow.keras.models import Sequential\n",
    "from tensorflow.keras.layers import Embedding, SimpleRNN, Dense, Dropout, LSTM, GRU, Bidirectional\n",
    "from tensorflow.keras import layers , regularizers\n",
    "from sklearn.model_selection import train_test_split\n",
    "from sklearn.preprocessing import LabelEncoder\n",
    "from tensorflow.keras.preprocessing.text import Tokenizer\n",
    "from tensorflow.keras.preprocessing.sequence import pad_sequences\n",
    "from tensorflow.keras.utils import to_categorical\n",
    "\n",
    "import nltk\n",
    "import re\n",
    "nltk.download('stopwords')\n",
    "from nltk.corpus import stopwords\n"
   ]
  },
  {
   "cell_type": "code",
   "execution_count": 78,
   "id": "983f0f0e",
   "metadata": {},
   "outputs": [
    {
     "data": {
      "text/html": [
       "<div>\n",
       "<style scoped>\n",
       "    .dataframe tbody tr th:only-of-type {\n",
       "        vertical-align: middle;\n",
       "    }\n",
       "\n",
       "    .dataframe tbody tr th {\n",
       "        vertical-align: top;\n",
       "    }\n",
       "\n",
       "    .dataframe thead th {\n",
       "        text-align: right;\n",
       "    }\n",
       "</style>\n",
       "<table border=\"1\" class=\"dataframe\">\n",
       "  <thead>\n",
       "    <tr style=\"text-align: right;\">\n",
       "      <th></th>\n",
       "      <th>target</th>\n",
       "      <th>ids</th>\n",
       "      <th>date</th>\n",
       "      <th>flag</th>\n",
       "      <th>user</th>\n",
       "      <th>text</th>\n",
       "    </tr>\n",
       "  </thead>\n",
       "  <tbody>\n",
       "    <tr>\n",
       "      <th>0</th>\n",
       "      <td>0</td>\n",
       "      <td>1467810369</td>\n",
       "      <td>Mon Apr 06 22:19:45 PDT 2009</td>\n",
       "      <td>NO_QUERY</td>\n",
       "      <td>_TheSpecialOne_</td>\n",
       "      <td>@switchfoot http://twitpic.com/2y1zl - Awww, t...</td>\n",
       "    </tr>\n",
       "    <tr>\n",
       "      <th>1</th>\n",
       "      <td>0</td>\n",
       "      <td>1467810672</td>\n",
       "      <td>Mon Apr 06 22:19:49 PDT 2009</td>\n",
       "      <td>NO_QUERY</td>\n",
       "      <td>scotthamilton</td>\n",
       "      <td>is upset that he can't update his Facebook by ...</td>\n",
       "    </tr>\n",
       "    <tr>\n",
       "      <th>2</th>\n",
       "      <td>0</td>\n",
       "      <td>1467810917</td>\n",
       "      <td>Mon Apr 06 22:19:53 PDT 2009</td>\n",
       "      <td>NO_QUERY</td>\n",
       "      <td>mattycus</td>\n",
       "      <td>@Kenichan I dived many times for the ball. Man...</td>\n",
       "    </tr>\n",
       "    <tr>\n",
       "      <th>3</th>\n",
       "      <td>0</td>\n",
       "      <td>1467811184</td>\n",
       "      <td>Mon Apr 06 22:19:57 PDT 2009</td>\n",
       "      <td>NO_QUERY</td>\n",
       "      <td>ElleCTF</td>\n",
       "      <td>my whole body feels itchy and like its on fire</td>\n",
       "    </tr>\n",
       "    <tr>\n",
       "      <th>4</th>\n",
       "      <td>0</td>\n",
       "      <td>1467811193</td>\n",
       "      <td>Mon Apr 06 22:19:57 PDT 2009</td>\n",
       "      <td>NO_QUERY</td>\n",
       "      <td>Karoli</td>\n",
       "      <td>@nationwideclass no, it's not behaving at all....</td>\n",
       "    </tr>\n",
       "  </tbody>\n",
       "</table>\n",
       "</div>"
      ],
      "text/plain": [
       "   target         ids                          date      flag  \\\n",
       "0       0  1467810369  Mon Apr 06 22:19:45 PDT 2009  NO_QUERY   \n",
       "1       0  1467810672  Mon Apr 06 22:19:49 PDT 2009  NO_QUERY   \n",
       "2       0  1467810917  Mon Apr 06 22:19:53 PDT 2009  NO_QUERY   \n",
       "3       0  1467811184  Mon Apr 06 22:19:57 PDT 2009  NO_QUERY   \n",
       "4       0  1467811193  Mon Apr 06 22:19:57 PDT 2009  NO_QUERY   \n",
       "\n",
       "              user                                               text  \n",
       "0  _TheSpecialOne_  @switchfoot http://twitpic.com/2y1zl - Awww, t...  \n",
       "1    scotthamilton  is upset that he can't update his Facebook by ...  \n",
       "2         mattycus  @Kenichan I dived many times for the ball. Man...  \n",
       "3          ElleCTF    my whole body feels itchy and like its on fire   \n",
       "4           Karoli  @nationwideclass no, it's not behaving at all....  "
      ]
     },
     "metadata": {},
     "output_type": "display_data"
    },
    {
     "data": {
      "text/plain": [
       "(1600000, 2)"
      ]
     },
     "execution_count": 78,
     "metadata": {},
     "output_type": "execute_result"
    }
   ],
   "source": [
    "# Đọc file CSV\n",
    "df = pd.read_csv(\"training.1600000.processed.noemoticon.csv\", encoding='latin-1', header=None)\n",
    "# Đặt tên cột\n",
    "df.columns = ['target', 'ids', 'date', 'flag', 'user', 'text']\n",
    "display(df.head())\n",
    "\n",
    "# Chỉ giữ lại 2 cột cần thiết\n",
    "df = df[['target', 'text']]\n",
    "\n",
    "# Xem dữ liệu\n",
    "df.head()\n",
    "df.shape"
   ]
  },
  {
   "cell_type": "code",
   "execution_count": 79,
   "id": "3500febc",
   "metadata": {},
   "outputs": [
    {
     "name": "stdout",
     "output_type": "stream",
     "text": [
      "target\n",
      "0    800000\n",
      "4    800000\n",
      "Name: count, dtype: int64\n"
     ]
    }
   ],
   "source": [
    "print(df['target'].value_counts())"
   ]
  },
  {
   "cell_type": "code",
   "execution_count": 80,
   "id": "73f73eb1",
   "metadata": {},
   "outputs": [
    {
     "name": "stdout",
     "output_type": "stream",
     "text": [
      "0         awww bummer shoulda got david carr third day\n",
      "1    upset update facebook texting might cry result...\n",
      "2    dived many times ball managed save rest go bounds\n",
      "3                     whole body feels itchy like fire\n",
      "4                                     behaving mad see\n",
      "Name: clean_text, dtype: object\n"
     ]
    }
   ],
   "source": [
    "stop_words = set(stopwords.words('english'))\n",
    "\n",
    "def clean_text(text):\n",
    "    text = re.sub(r\"http\\S+\", \"\", text)  # remove URLs\n",
    "    text = re.sub(r\"@\\w+\", \"\", text)     # remove mentions\n",
    "    text = re.sub(r\"#\\w+\", \"\", text)     # remove hashtags\n",
    "    text = re.sub(r\"[^a-zA-Z]\", \" \", text)  # keep only letters\n",
    "    text = text.lower().split()\n",
    "    text = [word for word in text if word not in stop_words]\n",
    "    return \" \".join(text)\n",
    "\n",
    "df['clean_text'] = df['text'].apply(clean_text)\n",
    "df = df[df['clean_text'].str.strip() != \"\"]\n",
    "print(df['clean_text'].head())"
   ]
  },
  {
   "cell_type": "code",
   "execution_count": 81,
   "id": "8d267d71",
   "metadata": {},
   "outputs": [],
   "source": [
    "# target: 0 (negative), 4 (positive) -> chuyển 4 thành 1\n",
    "df['target'] = df['target'].replace({0: 0, 4: 1})\n",
    "\n",
    "\n",
    "# Tokenizer\n",
    "tokenizer = Tokenizer(num_words=10000)\n",
    "tokenizer.fit_on_texts(df['clean_text'])\n",
    "sequences = tokenizer.texts_to_sequences(df['clean_text'])\n",
    "# Padding để các chuỗi có độ dài bằng nhau\n",
    "X = pad_sequences(sequences, padding='post' , maxlen=50)\n",
    "y = df['target'].values\n"
   ]
  },
  {
   "cell_type": "code",
   "execution_count": 82,
   "id": "08c7bf38",
   "metadata": {},
   "outputs": [
    {
     "name": "stdout",
     "output_type": "stream",
     "text": [
      "[0 0 0 ... 1 1 1]\n"
     ]
    }
   ],
   "source": [
    "print(y)"
   ]
  },
  {
   "cell_type": "code",
   "execution_count": 83,
   "id": "68d25efb",
   "metadata": {},
   "outputs": [
    {
     "data": {
      "text/plain": [
       "(1273088, 50)"
      ]
     },
     "metadata": {},
     "output_type": "display_data"
    },
    {
     "data": {
      "text/plain": [
       "array([0, 1, 0, ..., 0, 0, 0], dtype=int64)"
      ]
     },
     "metadata": {},
     "output_type": "display_data"
    },
    {
     "data": {
      "text/plain": [
       "array([[1583, 3312,    0, ...,    0,    0,    0],\n",
       "       [5992,  146, 2349, ...,    0,    0,    0],\n",
       "       [1396,  278,  749, ...,    0,    0,    0],\n",
       "       ...,\n",
       "       [2519,    1,    0, ...,    0,    0,    0],\n",
       "       [8975, 9745,  300, ...,    0,    0,    0],\n",
       "       [3203,  190, 8803, ...,    0,    0,    0]])"
      ]
     },
     "metadata": {},
     "output_type": "display_data"
    },
    {
     "data": {
      "text/plain": [
       "array([1, 0, 0, ..., 1, 0, 0], dtype=int64)"
      ]
     },
     "metadata": {},
     "output_type": "display_data"
    }
   ],
   "source": [
    "# One-hot encoding cho y\n",
    "#y = to_categorical(df['target'].values)\n",
    "\n",
    "# Sau đó chia train/test\n",
    "X_train, X_test, y_train, y_test = train_test_split(X, y, test_size=0.2, random_state=42)\n",
    "display(X_train.shape, y_train, X_test, y_test)\n",
    "\n"
   ]
  },
  {
   "cell_type": "code",
   "execution_count": 84,
   "id": "30cba2f4",
   "metadata": {},
   "outputs": [],
   "source": [
    "#train_ds = tf.data.Dataset.from_tensor_slices((X_train.values, y_train))\n",
    "#train_ds = train_ds.batch(32).prefetch(tf.data.AUTOTUNE)\n",
    "\n",
    "#test_ds = tf.data.Dataset.from_tensor_slices((X_test.values, y_test))\n",
    "#test_ds = test_ds.batch(32).prefetch(tf.data.AUTOTUNE)\n"
   ]
  },
  {
   "cell_type": "code",
   "execution_count": 85,
   "id": "3fcd73df",
   "metadata": {},
   "outputs": [],
   "source": [
    "# 🔠 TextVectorization\n",
    "#max_features = 10000\n",
    "#sequence_length = 50\n",
    "\n",
    "#vectorize_layer = layers.TextVectorization(\n",
    "#    max_tokens=max_features,\n",
    "#    output_mode='int',\n",
    "#    output_sequence_length=sequence_length\n",
    "#)\n",
    "#vectorize_layer.adapt(X_train.values)\n"
   ]
  },
  {
   "cell_type": "code",
   "execution_count": 86,
   "id": "579a5f45",
   "metadata": {},
   "outputs": [],
   "source": [
    "# 🧠 Xây dựng mô hình RNN\n",
    "#model = Sequential([\n",
    "#   vectorize_layer,\n",
    "#   layers.Embedding(input_dim=max_features, output_dim=64),\n",
    "#    layers.SimpleRNN(64),\n",
    "#    layers.Dense(3, activation='softmax')\n",
    "#])\n",
    "#model.compile(loss='categorical_crossentropy', optimizer='adam', metrics=['accuracy'])\n",
    "#model.summary()"
   ]
  },
  {
   "cell_type": "code",
   "execution_count": 89,
   "id": "f8a301f8",
   "metadata": {},
   "outputs": [
    {
     "name": "stdout",
     "output_type": "stream",
     "text": [
      "Model: \"sequential_8\"\n",
      "_________________________________________________________________\n",
      " Layer (type)                Output Shape              Param #   \n",
      "=================================================================\n",
      " embedding_8 (Embedding)     (None, 50, 64)            640000    \n",
      "                                                                 \n",
      " bidirectional_12 (Bidirect  (None, 64)                6208      \n",
      " ional)                                                          \n",
      "                                                                 \n",
      " dropout_7 (Dropout)         (None, 64)                0         \n",
      "                                                                 \n",
      " dense_7 (Dense)             (None, 1)                 65        \n",
      "                                                                 \n",
      "=================================================================\n",
      "Total params: 646273 (2.47 MB)\n",
      "Trainable params: 646273 (2.47 MB)\n",
      "Non-trainable params: 0 (0.00 Byte)\n",
      "_________________________________________________________________\n"
     ]
    }
   ],
   "source": [
    "model = Sequential()\n",
    "model.add(Embedding(input_dim=10000, output_dim=64, input_length=50))\n",
    "#model.add(Bidirectional(SimpleRNN(32, return_sequences=True, kernel_regularizer=regularizers.l2(0.01), dropout=0.3)))\n",
    "model.add(Bidirectional(SimpleRNN(32, kernel_regularizer=regularizers.l2(0.01), dropout=0.3)))\n",
    "model.add(Dropout(0.5))\n",
    "model.add(Dense(1, activation='sigmoid'))\n",
    "\n",
    "model.compile(loss='binary_crossentropy', optimizer='adam', metrics=['accuracy'])\n",
    "model.summary()\n"
   ]
  },
  {
   "cell_type": "code",
   "execution_count": 90,
   "id": "16555496",
   "metadata": {},
   "outputs": [
    {
     "name": "stdout",
     "output_type": "stream",
     "text": [
      "Epoch 1/5\n",
      "9946/9946 [==============================] - 339s 34ms/step - loss: 0.5147 - accuracy: 0.7616 - val_loss: 0.4974 - val_accuracy: 0.7644\n",
      "Epoch 2/5\n",
      "9946/9946 [==============================] - 348s 35ms/step - loss: 0.4898 - accuracy: 0.7749 - val_loss: 0.4879 - val_accuracy: 0.7698\n",
      "Epoch 3/5\n",
      "9946/9946 [==============================] - 369s 37ms/step - loss: 0.4834 - accuracy: 0.7778 - val_loss: 0.4785 - val_accuracy: 0.7765\n",
      "Epoch 4/5\n",
      "9946/9946 [==============================] - 372s 37ms/step - loss: 0.4815 - accuracy: 0.7800 - val_loss: 0.4810 - val_accuracy: 0.7756\n",
      "Epoch 5/5\n",
      "9946/9946 [==============================] - 356s 36ms/step - loss: 0.4783 - accuracy: 0.7813 - val_loss: 0.4801 - val_accuracy: 0.7770\n"
     ]
    }
   ],
   "source": [
    "history = model.fit(X_train, y_train, epochs=5, batch_size=128, validation_data=(X_test, y_test))\n"
   ]
  },
  {
   "cell_type": "code",
   "execution_count": null,
   "id": "46cd2677",
   "metadata": {},
   "outputs": [],
   "source": [
    "#history = model.fit(\n",
    "#    train_ds,\n",
    "#    validation_data=test_ds,\n",
    "#    epochs=5,\n",
    "#    batch_size=128\n",
    "#)"
   ]
  },
  {
   "cell_type": "code",
   "execution_count": null,
   "id": "711c81d7",
   "metadata": {},
   "outputs": [
    {
     "name": "stdout",
     "output_type": "stream",
     "text": [
      "9946/9946 [==============================] - 30s 3ms/step - loss: 0.4817 - accuracy: 0.7779\n",
      "Test Accuracy: 0.7779\n"
     ]
    },
    {
     "data": {
      "image/png": "[encoded data removed]",
      "text/plain": [
       "<Figure size 640x480 with 1 Axes>"
      ]
     },
     "metadata": {},
     "output_type": "display_data"
    }
   ],
   "source": [
    "# Độ chính xác\n",
    "loss, accuracy = model.evaluate(X_test, y_test)\n",
    "print(f\"Test Accuracy: {accuracy:.4f}\")\n",
    "\n",
    "# Biểu đồ loss và accuracy\n",
    "plt.plot(history.history['accuracy'], label='Train Accuracy')\n",
    "plt.plot(history.history['val_accuracy'], label='Val Accuracy')\n",
    "plt.legend()\n",
    "plt.title(\"Training and Validation Accuracy\")\n",
    "plt.show()\n"
   ]
  }
 ],
 "metadata": {
  "kernelspec": {
   "display_name": "Python 3",
   "language": "python",
   "name": "python3"
  },
  "language_info": {
   "codemirror_mode": {
    "name": "ipython",
    "version": 3
   },
   "file_extension": ".py",
   "mimetype": "text/x-python",
   "name": "python",
   "nbconvert_exporter": "python",
   "pygments_lexer": "ipython3",
   "version": "3.9.8"
  }
 },
 "nbformat": 4,
 "nbformat_minor": 5
}
